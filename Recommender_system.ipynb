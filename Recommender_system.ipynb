{
 "cells": [
  {
   "cell_type": "code",
   "execution_count": 8,
   "metadata": {
    "colab": {
     "base_uri": "https://localhost:8080/",
     "height": 71
    },
    "colab_type": "code",
    "executionInfo": {
     "elapsed": 1806,
     "status": "ok",
     "timestamp": 1586872659421,
     "user": {
      "displayName": "Sanjan Vijayakumar",
      "photoUrl": "",
      "userId": "01025977407905630875"
     },
     "user_tz": 240
    },
    "id": "glvQ26VghJIE",
    "outputId": "9b20ee79-5446-4788-c79f-0a662e028ea4"
   },
   "outputs": [],
   "source": [
    "import numpy as np\n",
    "import pandas as pd\n",
    "import matplotlib.pyplot as plt\n",
    "import seaborn as sns\n",
    "from sklearn.model_selection import train_test_split\n",
    "from sklearn.feature_extraction.text import TfidfVectorizer\n",
    "from nltk.corpus import stopwords \n",
    "from nltk.tokenize import WordPunctTokenizer\n",
    "import json\n",
    "import pickle\n",
    "import string\n",
    "from nltk.corpus import stopwords\n",
    "import nltk"
   ]
  },
  {
   "cell_type": "markdown",
   "metadata": {
    "colab_type": "text",
    "id": "YF1P4H3plP_O"
   },
   "source": [
    "Import Data"
   ]
  },
  {
   "cell_type": "code",
   "execution_count": 3,
   "metadata": {},
   "outputs": [
    {
     "data": {
      "text/html": [
       "<div>\n",
       "<style scoped>\n",
       "    .dataframe tbody tr th:only-of-type {\n",
       "        vertical-align: middle;\n",
       "    }\n",
       "\n",
       "    .dataframe tbody tr th {\n",
       "        vertical-align: top;\n",
       "    }\n",
       "\n",
       "    .dataframe thead th {\n",
       "        text-align: right;\n",
       "    }\n",
       "</style>\n",
       "<table border=\"1\" class=\"dataframe\">\n",
       "  <thead>\n",
       "    <tr style=\"text-align: right;\">\n",
       "      <th></th>\n",
       "      <th>Unnamed: 0</th>\n",
       "      <th>review_id</th>\n",
       "      <th>user_id</th>\n",
       "      <th>business_id</th>\n",
       "      <th>stars_review</th>\n",
       "      <th>useful</th>\n",
       "      <th>funny</th>\n",
       "      <th>cool</th>\n",
       "      <th>text</th>\n",
       "      <th>date</th>\n",
       "      <th>...</th>\n",
       "      <th>state</th>\n",
       "      <th>postal_code</th>\n",
       "      <th>latitude</th>\n",
       "      <th>longitude</th>\n",
       "      <th>stars_business</th>\n",
       "      <th>review_count</th>\n",
       "      <th>is_open</th>\n",
       "      <th>attributes</th>\n",
       "      <th>categories</th>\n",
       "      <th>hours</th>\n",
       "    </tr>\n",
       "  </thead>\n",
       "  <tbody>\n",
       "    <tr>\n",
       "      <th>0</th>\n",
       "      <td>30720</td>\n",
       "      <td>Ad91EzbAGRCR1SwkPfZJKg</td>\n",
       "      <td>LWTvg7RlyNLXIf482tXBPw</td>\n",
       "      <td>WCVFqK84i2H5EClSoow7ZA</td>\n",
       "      <td>5.0</td>\n",
       "      <td>0</td>\n",
       "      <td>0</td>\n",
       "      <td>0</td>\n",
       "      <td>Traveling through in our RV, stopped over in G...</td>\n",
       "      <td>2016-07-21 17:41:18</td>\n",
       "      <td>...</td>\n",
       "      <td>IL</td>\n",
       "      <td>62040</td>\n",
       "      <td>38.761132</td>\n",
       "      <td>-90.084759</td>\n",
       "      <td>4.5</td>\n",
       "      <td>33</td>\n",
       "      <td>0</td>\n",
       "      <td>{'BusinessParking': \"{'garage': False, 'street...</td>\n",
       "      <td>Sandwiches, Burgers, American (Traditional), R...</td>\n",
       "      <td>{'Monday': '7:0-20:0', 'Tuesday': '7:0-20:0', ...</td>\n",
       "    </tr>\n",
       "    <tr>\n",
       "      <th>1</th>\n",
       "      <td>30721</td>\n",
       "      <td>vYJXkULTCNVcfX7V34NDNw</td>\n",
       "      <td>kTnqh6o9zPeiks3JVv-DyQ</td>\n",
       "      <td>WCVFqK84i2H5EClSoow7ZA</td>\n",
       "      <td>5.0</td>\n",
       "      <td>4</td>\n",
       "      <td>0</td>\n",
       "      <td>0</td>\n",
       "      <td>Before starting our trip,  boyfriend and I wer...</td>\n",
       "      <td>2016-07-15 02:21:25</td>\n",
       "      <td>...</td>\n",
       "      <td>IL</td>\n",
       "      <td>62040</td>\n",
       "      <td>38.761132</td>\n",
       "      <td>-90.084759</td>\n",
       "      <td>4.5</td>\n",
       "      <td>33</td>\n",
       "      <td>0</td>\n",
       "      <td>{'BusinessParking': \"{'garage': False, 'street...</td>\n",
       "      <td>Sandwiches, Burgers, American (Traditional), R...</td>\n",
       "      <td>{'Monday': '7:0-20:0', 'Tuesday': '7:0-20:0', ...</td>\n",
       "    </tr>\n",
       "    <tr>\n",
       "      <th>2</th>\n",
       "      <td>30722</td>\n",
       "      <td>fjNcdg1AWZH-ktGIqMpKQw</td>\n",
       "      <td>9TJa9ORBQ6wjz-BqDYc2XA</td>\n",
       "      <td>WCVFqK84i2H5EClSoow7ZA</td>\n",
       "      <td>4.0</td>\n",
       "      <td>0</td>\n",
       "      <td>0</td>\n",
       "      <td>0</td>\n",
       "      <td>This food place is near my work and the fellow...</td>\n",
       "      <td>2018-06-19 12:32:31</td>\n",
       "      <td>...</td>\n",
       "      <td>IL</td>\n",
       "      <td>62040</td>\n",
       "      <td>38.761132</td>\n",
       "      <td>-90.084759</td>\n",
       "      <td>4.5</td>\n",
       "      <td>33</td>\n",
       "      <td>0</td>\n",
       "      <td>{'BusinessParking': \"{'garage': False, 'street...</td>\n",
       "      <td>Sandwiches, Burgers, American (Traditional), R...</td>\n",
       "      <td>{'Monday': '7:0-20:0', 'Tuesday': '7:0-20:0', ...</td>\n",
       "    </tr>\n",
       "    <tr>\n",
       "      <th>3</th>\n",
       "      <td>30723</td>\n",
       "      <td>Rc_8HI1BijwocWuqZdcFYw</td>\n",
       "      <td>I4aEtgDc9NhEdy_xDEL1mQ</td>\n",
       "      <td>WCVFqK84i2H5EClSoow7ZA</td>\n",
       "      <td>5.0</td>\n",
       "      <td>1</td>\n",
       "      <td>0</td>\n",
       "      <td>0</td>\n",
       "      <td>This place lives up to its name: itty bitty, b...</td>\n",
       "      <td>2017-09-22 14:16:40</td>\n",
       "      <td>...</td>\n",
       "      <td>IL</td>\n",
       "      <td>62040</td>\n",
       "      <td>38.761132</td>\n",
       "      <td>-90.084759</td>\n",
       "      <td>4.5</td>\n",
       "      <td>33</td>\n",
       "      <td>0</td>\n",
       "      <td>{'BusinessParking': \"{'garage': False, 'street...</td>\n",
       "      <td>Sandwiches, Burgers, American (Traditional), R...</td>\n",
       "      <td>{'Monday': '7:0-20:0', 'Tuesday': '7:0-20:0', ...</td>\n",
       "    </tr>\n",
       "    <tr>\n",
       "      <th>4</th>\n",
       "      <td>30724</td>\n",
       "      <td>4lorAGeXbUrf-lAeO1TF8g</td>\n",
       "      <td>26duDjXndAb04W94N2mO_Q</td>\n",
       "      <td>WCVFqK84i2H5EClSoow7ZA</td>\n",
       "      <td>5.0</td>\n",
       "      <td>2</td>\n",
       "      <td>0</td>\n",
       "      <td>1</td>\n",
       "      <td>I am not ashamed to admit that I'm addicted to...</td>\n",
       "      <td>2012-04-11 15:17:56</td>\n",
       "      <td>...</td>\n",
       "      <td>IL</td>\n",
       "      <td>62040</td>\n",
       "      <td>38.761132</td>\n",
       "      <td>-90.084759</td>\n",
       "      <td>4.5</td>\n",
       "      <td>33</td>\n",
       "      <td>0</td>\n",
       "      <td>{'BusinessParking': \"{'garage': False, 'street...</td>\n",
       "      <td>Sandwiches, Burgers, American (Traditional), R...</td>\n",
       "      <td>{'Monday': '7:0-20:0', 'Tuesday': '7:0-20:0', ...</td>\n",
       "    </tr>\n",
       "  </tbody>\n",
       "</table>\n",
       "<p>5 rows × 23 columns</p>\n",
       "</div>"
      ],
      "text/plain": [
       "   Unnamed: 0               review_id                 user_id   \n",
       "0       30720  Ad91EzbAGRCR1SwkPfZJKg  LWTvg7RlyNLXIf482tXBPw  \\\n",
       "1       30721  vYJXkULTCNVcfX7V34NDNw  kTnqh6o9zPeiks3JVv-DyQ   \n",
       "2       30722  fjNcdg1AWZH-ktGIqMpKQw  9TJa9ORBQ6wjz-BqDYc2XA   \n",
       "3       30723  Rc_8HI1BijwocWuqZdcFYw  I4aEtgDc9NhEdy_xDEL1mQ   \n",
       "4       30724  4lorAGeXbUrf-lAeO1TF8g  26duDjXndAb04W94N2mO_Q   \n",
       "\n",
       "              business_id  stars_review  useful  funny  cool   \n",
       "0  WCVFqK84i2H5EClSoow7ZA           5.0       0      0     0  \\\n",
       "1  WCVFqK84i2H5EClSoow7ZA           5.0       4      0     0   \n",
       "2  WCVFqK84i2H5EClSoow7ZA           4.0       0      0     0   \n",
       "3  WCVFqK84i2H5EClSoow7ZA           5.0       1      0     0   \n",
       "4  WCVFqK84i2H5EClSoow7ZA           5.0       2      0     1   \n",
       "\n",
       "                                                text                 date   \n",
       "0  Traveling through in our RV, stopped over in G...  2016-07-21 17:41:18  \\\n",
       "1  Before starting our trip,  boyfriend and I wer...  2016-07-15 02:21:25   \n",
       "2  This food place is near my work and the fellow...  2018-06-19 12:32:31   \n",
       "3  This place lives up to its name: itty bitty, b...  2017-09-22 14:16:40   \n",
       "4  I am not ashamed to admit that I'm addicted to...  2012-04-11 15:17:56   \n",
       "\n",
       "   ... state postal_code   latitude  longitude  stars_business  review_count   \n",
       "0  ...    IL       62040  38.761132 -90.084759             4.5            33  \\\n",
       "1  ...    IL       62040  38.761132 -90.084759             4.5            33   \n",
       "2  ...    IL       62040  38.761132 -90.084759             4.5            33   \n",
       "3  ...    IL       62040  38.761132 -90.084759             4.5            33   \n",
       "4  ...    IL       62040  38.761132 -90.084759             4.5            33   \n",
       "\n",
       "   is_open                                         attributes   \n",
       "0        0  {'BusinessParking': \"{'garage': False, 'street...  \\\n",
       "1        0  {'BusinessParking': \"{'garage': False, 'street...   \n",
       "2        0  {'BusinessParking': \"{'garage': False, 'street...   \n",
       "3        0  {'BusinessParking': \"{'garage': False, 'street...   \n",
       "4        0  {'BusinessParking': \"{'garage': False, 'street...   \n",
       "\n",
       "                                          categories   \n",
       "0  Sandwiches, Burgers, American (Traditional), R...  \\\n",
       "1  Sandwiches, Burgers, American (Traditional), R...   \n",
       "2  Sandwiches, Burgers, American (Traditional), R...   \n",
       "3  Sandwiches, Burgers, American (Traditional), R...   \n",
       "4  Sandwiches, Burgers, American (Traditional), R...   \n",
       "\n",
       "                                               hours  \n",
       "0  {'Monday': '7:0-20:0', 'Tuesday': '7:0-20:0', ...  \n",
       "1  {'Monday': '7:0-20:0', 'Tuesday': '7:0-20:0', ...  \n",
       "2  {'Monday': '7:0-20:0', 'Tuesday': '7:0-20:0', ...  \n",
       "3  {'Monday': '7:0-20:0', 'Tuesday': '7:0-20:0', ...  \n",
       "4  {'Monday': '7:0-20:0', 'Tuesday': '7:0-20:0', ...  \n",
       "\n",
       "[5 rows x 23 columns]"
      ]
     },
     "execution_count": 3,
     "metadata": {},
     "output_type": "execute_result"
    }
   ],
   "source": [
    "df=pd.read_csv('Illinois_review.csv')\n",
    "df.head()"
   ]
  },
  {
   "cell_type": "code",
   "execution_count": 4,
   "metadata": {
    "colab": {
     "base_uri": "https://localhost:8080/",
     "height": 543
    },
    "colab_type": "code",
    "executionInfo": {
     "elapsed": 8616,
     "status": "ok",
     "timestamp": 1586872666301,
     "user": {
      "displayName": "Sanjan Vijayakumar",
      "photoUrl": "",
      "userId": "01025977407905630875"
     },
     "user_tz": 240
    },
    "id": "7pqwiNGYiG8H",
    "outputId": "e92d783f-06be-422c-a4ea-a22f648e5440"
   },
   "outputs": [
    {
     "data": {
      "text/html": [
       "<div>\n",
       "<style scoped>\n",
       "    .dataframe tbody tr th:only-of-type {\n",
       "        vertical-align: middle;\n",
       "    }\n",
       "\n",
       "    .dataframe tbody tr th {\n",
       "        vertical-align: top;\n",
       "    }\n",
       "\n",
       "    .dataframe thead th {\n",
       "        text-align: right;\n",
       "    }\n",
       "</style>\n",
       "<table border=\"1\" class=\"dataframe\">\n",
       "  <thead>\n",
       "    <tr style=\"text-align: right;\">\n",
       "      <th></th>\n",
       "      <th>business_id</th>\n",
       "      <th>name</th>\n",
       "      <th>address</th>\n",
       "      <th>city</th>\n",
       "      <th>state</th>\n",
       "      <th>postal_code</th>\n",
       "      <th>latitude</th>\n",
       "      <th>longitude</th>\n",
       "      <th>stars</th>\n",
       "      <th>review_count</th>\n",
       "      <th>is_open</th>\n",
       "      <th>attributes</th>\n",
       "      <th>categories</th>\n",
       "      <th>hours</th>\n",
       "    </tr>\n",
       "  </thead>\n",
       "  <tbody>\n",
       "    <tr>\n",
       "      <th>0</th>\n",
       "      <td>Pns2l4eNsfO8kk83dixA6A</td>\n",
       "      <td>Abby Rappoport, LAC, CMQ</td>\n",
       "      <td>1616 Chapala St, Ste 2</td>\n",
       "      <td>Santa Barbara</td>\n",
       "      <td>CA</td>\n",
       "      <td>93101</td>\n",
       "      <td>34.426679</td>\n",
       "      <td>-119.711197</td>\n",
       "      <td>5.0</td>\n",
       "      <td>7</td>\n",
       "      <td>0</td>\n",
       "      <td>{'ByAppointmentOnly': 'True'}</td>\n",
       "      <td>Doctors, Traditional Chinese Medicine, Naturop...</td>\n",
       "      <td>None</td>\n",
       "    </tr>\n",
       "    <tr>\n",
       "      <th>1</th>\n",
       "      <td>mpf3x-BjTdTEA3yCZrAYPw</td>\n",
       "      <td>The UPS Store</td>\n",
       "      <td>87 Grasso Plaza Shopping Center</td>\n",
       "      <td>Affton</td>\n",
       "      <td>MO</td>\n",
       "      <td>63123</td>\n",
       "      <td>38.551126</td>\n",
       "      <td>-90.335695</td>\n",
       "      <td>3.0</td>\n",
       "      <td>15</td>\n",
       "      <td>1</td>\n",
       "      <td>{'BusinessAcceptsCreditCards': 'True'}</td>\n",
       "      <td>Shipping Centers, Local Services, Notaries, Ma...</td>\n",
       "      <td>{'Monday': '0:0-0:0', 'Tuesday': '8:0-18:30', ...</td>\n",
       "    </tr>\n",
       "    <tr>\n",
       "      <th>2</th>\n",
       "      <td>tUFrWirKiKi_TAnsVWINQQ</td>\n",
       "      <td>Target</td>\n",
       "      <td>5255 E Broadway Blvd</td>\n",
       "      <td>Tucson</td>\n",
       "      <td>AZ</td>\n",
       "      <td>85711</td>\n",
       "      <td>32.223236</td>\n",
       "      <td>-110.880452</td>\n",
       "      <td>3.5</td>\n",
       "      <td>22</td>\n",
       "      <td>0</td>\n",
       "      <td>{'BikeParking': 'True', 'BusinessAcceptsCredit...</td>\n",
       "      <td>Department Stores, Shopping, Fashion, Home &amp; G...</td>\n",
       "      <td>{'Monday': '8:0-22:0', 'Tuesday': '8:0-22:0', ...</td>\n",
       "    </tr>\n",
       "    <tr>\n",
       "      <th>3</th>\n",
       "      <td>MTSW4McQd7CbVtyjqoe9mw</td>\n",
       "      <td>St Honore Pastries</td>\n",
       "      <td>935 Race St</td>\n",
       "      <td>Philadelphia</td>\n",
       "      <td>PA</td>\n",
       "      <td>19107</td>\n",
       "      <td>39.955505</td>\n",
       "      <td>-75.155564</td>\n",
       "      <td>4.0</td>\n",
       "      <td>80</td>\n",
       "      <td>1</td>\n",
       "      <td>{'RestaurantsDelivery': 'False', 'OutdoorSeati...</td>\n",
       "      <td>Restaurants, Food, Bubble Tea, Coffee &amp; Tea, B...</td>\n",
       "      <td>{'Monday': '7:0-20:0', 'Tuesday': '7:0-20:0', ...</td>\n",
       "    </tr>\n",
       "    <tr>\n",
       "      <th>4</th>\n",
       "      <td>mWMc6_wTdE0EUBKIGXDVfA</td>\n",
       "      <td>Perkiomen Valley Brewery</td>\n",
       "      <td>101 Walnut St</td>\n",
       "      <td>Green Lane</td>\n",
       "      <td>PA</td>\n",
       "      <td>18054</td>\n",
       "      <td>40.338183</td>\n",
       "      <td>-75.471659</td>\n",
       "      <td>4.5</td>\n",
       "      <td>13</td>\n",
       "      <td>1</td>\n",
       "      <td>{'BusinessAcceptsCreditCards': 'True', 'Wheelc...</td>\n",
       "      <td>Brewpubs, Breweries, Food</td>\n",
       "      <td>{'Wednesday': '14:0-22:0', 'Thursday': '16:0-2...</td>\n",
       "    </tr>\n",
       "  </tbody>\n",
       "</table>\n",
       "</div>"
      ],
      "text/plain": [
       "              business_id                      name   \n",
       "0  Pns2l4eNsfO8kk83dixA6A  Abby Rappoport, LAC, CMQ  \\\n",
       "1  mpf3x-BjTdTEA3yCZrAYPw             The UPS Store   \n",
       "2  tUFrWirKiKi_TAnsVWINQQ                    Target   \n",
       "3  MTSW4McQd7CbVtyjqoe9mw        St Honore Pastries   \n",
       "4  mWMc6_wTdE0EUBKIGXDVfA  Perkiomen Valley Brewery   \n",
       "\n",
       "                           address           city state postal_code   \n",
       "0           1616 Chapala St, Ste 2  Santa Barbara    CA       93101  \\\n",
       "1  87 Grasso Plaza Shopping Center         Affton    MO       63123   \n",
       "2             5255 E Broadway Blvd         Tucson    AZ       85711   \n",
       "3                      935 Race St   Philadelphia    PA       19107   \n",
       "4                    101 Walnut St     Green Lane    PA       18054   \n",
       "\n",
       "    latitude   longitude  stars  review_count  is_open   \n",
       "0  34.426679 -119.711197    5.0             7        0  \\\n",
       "1  38.551126  -90.335695    3.0            15        1   \n",
       "2  32.223236 -110.880452    3.5            22        0   \n",
       "3  39.955505  -75.155564    4.0            80        1   \n",
       "4  40.338183  -75.471659    4.5            13        1   \n",
       "\n",
       "                                          attributes   \n",
       "0                      {'ByAppointmentOnly': 'True'}  \\\n",
       "1             {'BusinessAcceptsCreditCards': 'True'}   \n",
       "2  {'BikeParking': 'True', 'BusinessAcceptsCredit...   \n",
       "3  {'RestaurantsDelivery': 'False', 'OutdoorSeati...   \n",
       "4  {'BusinessAcceptsCreditCards': 'True', 'Wheelc...   \n",
       "\n",
       "                                          categories   \n",
       "0  Doctors, Traditional Chinese Medicine, Naturop...  \\\n",
       "1  Shipping Centers, Local Services, Notaries, Ma...   \n",
       "2  Department Stores, Shopping, Fashion, Home & G...   \n",
       "3  Restaurants, Food, Bubble Tea, Coffee & Tea, B...   \n",
       "4                          Brewpubs, Breweries, Food   \n",
       "\n",
       "                                               hours  \n",
       "0                                               None  \n",
       "1  {'Monday': '0:0-0:0', 'Tuesday': '8:0-18:30', ...  \n",
       "2  {'Monday': '8:0-22:0', 'Tuesday': '8:0-22:0', ...  \n",
       "3  {'Monday': '7:0-20:0', 'Tuesday': '7:0-20:0', ...  \n",
       "4  {'Wednesday': '14:0-22:0', 'Thursday': '16:0-2...  "
      ]
     },
     "execution_count": 4,
     "metadata": {},
     "output_type": "execute_result"
    }
   ],
   "source": [
    "df_business = pd.read_json('yelp_academic_dataset_business.json', lines=True)\n",
    "df_business.head()"
   ]
  },
  {
   "cell_type": "code",
   "execution_count": 5,
   "metadata": {
    "colab": {
     "base_uri": "https://localhost:8080/",
     "height": 136
    },
    "colab_type": "code",
    "executionInfo": {
     "elapsed": 8604,
     "status": "ok",
     "timestamp": 1586872666301,
     "user": {
      "displayName": "Sanjan Vijayakumar",
      "photoUrl": "",
      "userId": "01025977407905630875"
     },
     "user_tz": 240
    },
    "id": "SbY32vJciei8",
    "outputId": "3ea5bbe6-e848-4094-c254-53478c1d2127"
   },
   "outputs": [
    {
     "data": {
      "text/plain": [
       "Unnamed: 0           0\n",
       "review_id            0\n",
       "user_id              0\n",
       "business_id          0\n",
       "stars_review         0\n",
       "useful               0\n",
       "funny                0\n",
       "cool                 0\n",
       "text                 0\n",
       "date                 0\n",
       "name                 0\n",
       "address            202\n",
       "city                 0\n",
       "state                0\n",
       "postal_code          0\n",
       "latitude             0\n",
       "longitude            0\n",
       "stars_business       0\n",
       "review_count         0\n",
       "is_open              0\n",
       "attributes        1556\n",
       "categories           5\n",
       "hours             4962\n",
       "dtype: int64"
      ]
     },
     "execution_count": 5,
     "metadata": {},
     "output_type": "execute_result"
    }
   ],
   "source": [
    "# Checking null values in dataframe\n",
    "df.isnull().sum()"
   ]
  },
  {
   "cell_type": "code",
   "execution_count": 6,
   "metadata": {
    "colab": {},
    "colab_type": "code",
    "id": "k29gzuZHioWx"
   },
   "outputs": [],
   "source": [
    "# Select only stars and text\n",
    "yelp_data = df[['business_id', 'user_id', 'stars_business', 'text']]"
   ]
  },
  {
   "cell_type": "code",
   "execution_count": 9,
   "metadata": {
    "colab": {
     "base_uri": "https://localhost:8080/",
     "height": 51
    },
    "colab_type": "code",
    "executionInfo": {
     "elapsed": 8591,
     "status": "ok",
     "timestamp": 1586872666302,
     "user": {
      "displayName": "Sanjan Vijayakumar",
      "photoUrl": "",
      "userId": "01025977407905630875"
     },
     "user_tz": 240
    },
    "id": "4onkak2vitLt",
    "outputId": "672fb075-0246-49ae-dd74-a613ca980251"
   },
   "outputs": [
    {
     "name": "stderr",
     "output_type": "stream",
     "text": [
      "[nltk_data] Downloading package stopwords to\n",
      "[nltk_data]     /Users/dhruvmehtadm/nltk_data...\n",
      "[nltk_data]   Package stopwords is already up-to-date!\n"
     ]
    }
   ],
   "source": [
    "nltk.download('stopwords')\n",
    "stop = []\n",
    "for word in stopwords.words('english'):\n",
    "    s = [char for char in word if char not in string.punctuation]\n",
    "    stop.append(''.join(s))"
   ]
  },
  {
   "cell_type": "code",
   "execution_count": 10,
   "metadata": {
    "colab": {},
    "colab_type": "code",
    "id": "KqeFOHduiwL6"
   },
   "outputs": [],
   "source": [
    "def text_process(mess):\n",
    "    \"\"\"\n",
    "    1. Removes all punctuation\n",
    "    2. Removes all stopwords\n",
    "    3. Returns a list of cleaned text\n",
    "    \"\"\"\n",
    "    # Check characters to see if they are punctuation characters\n",
    "    nopunc = [char for char in mess if char not in string.punctuation]\n",
    "\n",
    "    # Join the characters again to form the string.\n",
    "    nopunc = ''.join(nopunc)\n",
    "    \n",
    "    # Removing stopwords\n",
    "    return \" \".join([word for word in nopunc.split() if word.lower() not in stop])"
   ]
  },
  {
   "cell_type": "code",
   "execution_count": 11,
   "metadata": {
    "colab": {},
    "colab_type": "code",
    "id": "XuspV2DzjQhu"
   },
   "outputs": [
    {
     "name": "stderr",
     "output_type": "stream",
     "text": [
      "/var/folders/8r/9jqm18mn7rbgxwwm5mp_2tdc0000gn/T/ipykernel_27933/2968469597.py:1: SettingWithCopyWarning: \n",
      "A value is trying to be set on a copy of a slice from a DataFrame.\n",
      "Try using .loc[row_indexer,col_indexer] = value instead\n",
      "\n",
      "See the caveats in the documentation: https://pandas.pydata.org/pandas-docs/stable/user_guide/indexing.html#returning-a-view-versus-a-copy\n",
      "  yelp_data['text'] = yelp_data['text'].apply(text_process)\n"
     ]
    }
   ],
   "source": [
    "yelp_data['text'] = yelp_data['text'].apply(text_process)"
   ]
  },
  {
   "cell_type": "code",
   "execution_count": 12,
   "metadata": {
    "colab": {},
    "colab_type": "code",
    "id": "YYGnymhtjRH_"
   },
   "outputs": [],
   "source": [
    "# Spliting train and test sets\n",
    "vld_size=0.15\n",
    "X_train, X_valid, y_train, y_valid = train_test_split(yelp_data['text'], df['business_id'], test_size = vld_size)"
   ]
  },
  {
   "attachments": {},
   "cell_type": "markdown",
   "metadata": {
    "colab_type": "text",
    "id": "XqIHFI5jlfif"
   },
   "source": [
    "Create two tables of user-text and business-text"
   ]
  },
  {
   "cell_type": "code",
   "execution_count": 13,
   "metadata": {
    "colab": {},
    "colab_type": "code",
    "id": "4lZZ8sGEjW_5"
   },
   "outputs": [],
   "source": [
    "userid_df = yelp_data[['user_id','text']]\n",
    "business_df = yelp_data[['business_id', 'text']]"
   ]
  },
  {
   "cell_type": "code",
   "execution_count": 14,
   "metadata": {
    "colab": {
     "base_uri": "https://localhost:8080/",
     "height": 200
    },
    "colab_type": "code",
    "executionInfo": {
     "elapsed": 15913,
     "status": "ok",
     "timestamp": 1586872673660,
     "user": {
      "displayName": "Sanjan Vijayakumar",
      "photoUrl": "",
      "userId": "01025977407905630875"
     },
     "user_tz": 240
    },
    "id": "upvILpkYjaQ3",
    "outputId": "b2396c75-5658-463d-a87f-67d56afb62a4"
   },
   "outputs": [
    {
     "data": {
      "text/html": [
       "<div>\n",
       "<style scoped>\n",
       "    .dataframe tbody tr th:only-of-type {\n",
       "        vertical-align: middle;\n",
       "    }\n",
       "\n",
       "    .dataframe tbody tr th {\n",
       "        vertical-align: top;\n",
       "    }\n",
       "\n",
       "    .dataframe thead th {\n",
       "        text-align: right;\n",
       "    }\n",
       "</style>\n",
       "<table border=\"1\" class=\"dataframe\">\n",
       "  <thead>\n",
       "    <tr style=\"text-align: right;\">\n",
       "      <th></th>\n",
       "      <th>user_id</th>\n",
       "      <th>text</th>\n",
       "    </tr>\n",
       "  </thead>\n",
       "  <tbody>\n",
       "    <tr>\n",
       "      <th>0</th>\n",
       "      <td>LWTvg7RlyNLXIf482tXBPw</td>\n",
       "      <td>Traveling RV stopped Granite City Found little...</td>\n",
       "    </tr>\n",
       "    <tr>\n",
       "      <th>1</th>\n",
       "      <td>kTnqh6o9zPeiks3JVv-DyQ</td>\n",
       "      <td>starting trip boyfriend looking spot dinner ne...</td>\n",
       "    </tr>\n",
       "    <tr>\n",
       "      <th>2</th>\n",
       "      <td>9TJa9ORBQ6wjz-BqDYc2XA</td>\n",
       "      <td>food place near work fellow employees frequent...</td>\n",
       "    </tr>\n",
       "    <tr>\n",
       "      <th>3</th>\n",
       "      <td>I4aEtgDc9NhEdy_xDEL1mQ</td>\n",
       "      <td>place lives name itty bitty food delicious Not...</td>\n",
       "    </tr>\n",
       "    <tr>\n",
       "      <th>4</th>\n",
       "      <td>26duDjXndAb04W94N2mO_Q</td>\n",
       "      <td>ashamed admit Im addicted Itty Bitty work righ...</td>\n",
       "    </tr>\n",
       "  </tbody>\n",
       "</table>\n",
       "</div>"
      ],
      "text/plain": [
       "                  user_id                                               text\n",
       "0  LWTvg7RlyNLXIf482tXBPw  Traveling RV stopped Granite City Found little...\n",
       "1  kTnqh6o9zPeiks3JVv-DyQ  starting trip boyfriend looking spot dinner ne...\n",
       "2  9TJa9ORBQ6wjz-BqDYc2XA  food place near work fellow employees frequent...\n",
       "3  I4aEtgDc9NhEdy_xDEL1mQ  place lives name itty bitty food delicious Not...\n",
       "4  26duDjXndAb04W94N2mO_Q  ashamed admit Im addicted Itty Bitty work righ..."
      ]
     },
     "execution_count": 14,
     "metadata": {},
     "output_type": "execute_result"
    }
   ],
   "source": [
    "userid_df.head()"
   ]
  },
  {
   "cell_type": "code",
   "execution_count": 15,
   "metadata": {
    "colab": {
     "base_uri": "https://localhost:8080/",
     "height": 119
    },
    "colab_type": "code",
    "executionInfo": {
     "elapsed": 15901,
     "status": "ok",
     "timestamp": 1586872673661,
     "user": {
      "displayName": "Sanjan Vijayakumar",
      "photoUrl": "",
      "userId": "01025977407905630875"
     },
     "user_tz": 240
    },
    "id": "4ZhAgOUvjtfv",
    "outputId": "47bffa22-8280-4dfb-8871-2b3022e603ef"
   },
   "outputs": [
    {
     "data": {
      "text/plain": [
       "0    Traveling RV stopped Granite City Found little...\n",
       "Name: text, dtype: object"
      ]
     },
     "execution_count": 15,
     "metadata": {},
     "output_type": "execute_result"
    }
   ],
   "source": [
    "userid_df[userid_df['user_id']=='LWTvg7RlyNLXIf482tXBPw']['text']"
   ]
  },
  {
   "cell_type": "code",
   "execution_count": 16,
   "metadata": {
    "colab": {
     "base_uri": "https://localhost:8080/",
     "height": 200
    },
    "colab_type": "code",
    "executionInfo": {
     "elapsed": 15887,
     "status": "ok",
     "timestamp": 1586872673661,
     "user": {
      "displayName": "Sanjan Vijayakumar",
      "photoUrl": "",
      "userId": "01025977407905630875"
     },
     "user_tz": 240
    },
    "id": "ok7sA-G2jxml",
    "outputId": "12b3a071-60a5-4936-f0e5-4123f217a01a"
   },
   "outputs": [
    {
     "data": {
      "text/html": [
       "<div>\n",
       "<style scoped>\n",
       "    .dataframe tbody tr th:only-of-type {\n",
       "        vertical-align: middle;\n",
       "    }\n",
       "\n",
       "    .dataframe tbody tr th {\n",
       "        vertical-align: top;\n",
       "    }\n",
       "\n",
       "    .dataframe thead th {\n",
       "        text-align: right;\n",
       "    }\n",
       "</style>\n",
       "<table border=\"1\" class=\"dataframe\">\n",
       "  <thead>\n",
       "    <tr style=\"text-align: right;\">\n",
       "      <th></th>\n",
       "      <th>business_id</th>\n",
       "      <th>text</th>\n",
       "    </tr>\n",
       "  </thead>\n",
       "  <tbody>\n",
       "    <tr>\n",
       "      <th>0</th>\n",
       "      <td>WCVFqK84i2H5EClSoow7ZA</td>\n",
       "      <td>Traveling RV stopped Granite City Found little...</td>\n",
       "    </tr>\n",
       "    <tr>\n",
       "      <th>1</th>\n",
       "      <td>WCVFqK84i2H5EClSoow7ZA</td>\n",
       "      <td>starting trip boyfriend looking spot dinner ne...</td>\n",
       "    </tr>\n",
       "    <tr>\n",
       "      <th>2</th>\n",
       "      <td>WCVFqK84i2H5EClSoow7ZA</td>\n",
       "      <td>food place near work fellow employees frequent...</td>\n",
       "    </tr>\n",
       "    <tr>\n",
       "      <th>3</th>\n",
       "      <td>WCVFqK84i2H5EClSoow7ZA</td>\n",
       "      <td>place lives name itty bitty food delicious Not...</td>\n",
       "    </tr>\n",
       "    <tr>\n",
       "      <th>4</th>\n",
       "      <td>WCVFqK84i2H5EClSoow7ZA</td>\n",
       "      <td>ashamed admit Im addicted Itty Bitty work righ...</td>\n",
       "    </tr>\n",
       "  </tbody>\n",
       "</table>\n",
       "</div>"
      ],
      "text/plain": [
       "              business_id                                               text\n",
       "0  WCVFqK84i2H5EClSoow7ZA  Traveling RV stopped Granite City Found little...\n",
       "1  WCVFqK84i2H5EClSoow7ZA  starting trip boyfriend looking spot dinner ne...\n",
       "2  WCVFqK84i2H5EClSoow7ZA  food place near work fellow employees frequent...\n",
       "3  WCVFqK84i2H5EClSoow7ZA  place lives name itty bitty food delicious Not...\n",
       "4  WCVFqK84i2H5EClSoow7ZA  ashamed admit Im addicted Itty Bitty work righ..."
      ]
     },
     "execution_count": 16,
     "metadata": {},
     "output_type": "execute_result"
    }
   ],
   "source": [
    "business_df.head()"
   ]
  },
  {
   "cell_type": "code",
   "execution_count": 17,
   "metadata": {
    "colab": {},
    "colab_type": "code",
    "id": "gpZFv-n0j0RN"
   },
   "outputs": [],
   "source": [
    "userid_df = userid_df.groupby('user_id').agg({'text': ' '.join})\n",
    "business_df = business_df.groupby('business_id').agg({'text': ' '.join})"
   ]
  },
  {
   "cell_type": "code",
   "execution_count": 18,
   "metadata": {
    "colab": {
     "base_uri": "https://localhost:8080/",
     "height": 54
    },
    "colab_type": "code",
    "executionInfo": {
     "elapsed": 16091,
     "status": "ok",
     "timestamp": 1586872673894,
     "user": {
      "displayName": "Sanjan Vijayakumar",
      "photoUrl": "",
      "userId": "01025977407905630875"
     },
     "user_tz": 240
    },
    "id": "uUAr6IQsj7EP",
    "outputId": "052808e1-74d3-4b07-de6f-6d191592b48c"
   },
   "outputs": [
    {
     "data": {
      "text/plain": [
       "'Traveling RV stopped Granite City Found little gem cafe Upon entering staff sweet friendly like home cooking ate twice food choices fresh delicious like would fix home Yum'"
      ]
     },
     "execution_count": 18,
     "metadata": {},
     "output_type": "execute_result"
    }
   ],
   "source": [
    "userid_df.loc['LWTvg7RlyNLXIf482tXBPw']['text']"
   ]
  },
  {
   "cell_type": "markdown",
   "metadata": {
    "colab_type": "text",
    "id": "tohymUpMkEGG"
   },
   "source": [
    "\n",
    "User TF-IDF Vectorizer with 5000 Features"
   ]
  },
  {
   "cell_type": "code",
   "execution_count": 19,
   "metadata": {
    "colab": {
     "base_uri": "https://localhost:8080/",
     "height": 34
    },
    "colab_type": "code",
    "executionInfo": {
     "elapsed": 17515,
     "status": "ok",
     "timestamp": 1586872675338,
     "user": {
      "displayName": "Sanjan Vijayakumar",
      "photoUrl": "",
      "userId": "01025977407905630875"
     },
     "user_tz": 240
    },
    "id": "DVn39A_rkDgn",
    "outputId": "6805f0eb-8a06-4eff-ac32-4ee198dcf1bd"
   },
   "outputs": [
    {
     "name": "stderr",
     "output_type": "stream",
     "text": [
      "/opt/homebrew/lib/python3.9/site-packages/sklearn/feature_extraction/text.py:528: UserWarning: The parameter 'token_pattern' will not be used since 'tokenizer' is not None'\n",
      "  warnings.warn(\n"
     ]
    },
    {
     "name": "stdout",
     "output_type": "stream",
     "text": [
      "(22248, 5000)\n",
      "(2145, 5000)\n"
     ]
    }
   ],
   "source": [
    "# user_id vectorizer\n",
    "userid_vectorizer = TfidfVectorizer(tokenizer = WordPunctTokenizer().tokenize, max_features=5000)\n",
    "userid_vectors = userid_vectorizer.fit_transform(userid_df['text'])\n",
    "print(userid_vectors.shape)\n",
    "\n",
    "# business_id vectorizer\n",
    "businessid_vectorizer = TfidfVectorizer(tokenizer = WordPunctTokenizer().tokenize, max_features=5000)\n",
    "businessid_vectors = businessid_vectorizer.fit_transform(business_df['text'])\n",
    "print(businessid_vectors.shape)\n"
   ]
  },
  {
   "cell_type": "markdown",
   "metadata": {
    "colab_type": "text",
    "id": "fAeeB_JGkTEn"
   },
   "source": [
    "Matrix Factorization"
   ]
  },
  {
   "cell_type": "code",
   "execution_count": 20,
   "metadata": {
    "colab": {
     "base_uri": "https://localhost:8080/",
     "height": 34
    },
    "colab_type": "code",
    "executionInfo": {
     "elapsed": 18987,
     "status": "ok",
     "timestamp": 1586872676840,
     "user": {
      "displayName": "Sanjan Vijayakumar",
      "photoUrl": "",
      "userId": "01025977407905630875"
     },
     "user_tz": 240
    },
    "id": "_yGc0GxFkQLA",
    "outputId": "b5dcb5be-72c8-4671-b3b5-e7a1ee5d6128"
   },
   "outputs": [
    {
     "data": {
      "text/plain": [
       "(22248, 2145)"
      ]
     },
     "execution_count": 20,
     "metadata": {},
     "output_type": "execute_result"
    }
   ],
   "source": [
    "userid_rating_matrix = pd.pivot_table(yelp_data, values='stars_business', index=['user_id'], columns=['business_id'])\n",
    "userid_rating_matrix.shape"
   ]
  },
  {
   "cell_type": "code",
   "execution_count": 21,
   "metadata": {
    "colab": {
     "base_uri": "https://localhost:8080/",
     "height": 347
    },
    "colab_type": "code",
    "executionInfo": {
     "elapsed": 19092,
     "status": "ok",
     "timestamp": 1586872676959,
     "user": {
      "displayName": "Sanjan Vijayakumar",
      "photoUrl": "",
      "userId": "01025977407905630875"
     },
     "user_tz": 240
    },
    "id": "j0iRcDJpkVZH",
    "outputId": "eb8906f5-1bba-47c2-e6c8-be40706328c0"
   },
   "outputs": [
    {
     "data": {
      "text/html": [
       "<div>\n",
       "<style scoped>\n",
       "    .dataframe tbody tr th:only-of-type {\n",
       "        vertical-align: middle;\n",
       "    }\n",
       "\n",
       "    .dataframe tbody tr th {\n",
       "        vertical-align: top;\n",
       "    }\n",
       "\n",
       "    .dataframe thead th {\n",
       "        text-align: right;\n",
       "    }\n",
       "</style>\n",
       "<table border=\"1\" class=\"dataframe\">\n",
       "  <thead>\n",
       "    <tr style=\"text-align: right;\">\n",
       "      <th>business_id</th>\n",
       "      <th>-0epFLgYq2C1Jo_W4FOBKw</th>\n",
       "      <th>-1wnOZFsvsJPEXh_hWcmMA</th>\n",
       "      <th>-2gmbMDzKgYZ_8DOnJtPyw</th>\n",
       "      <th>-6kNhGurAbdNQanqbAaoMg</th>\n",
       "      <th>-78Va3llKcPbL6SW4is8lw</th>\n",
       "      <th>-7_R1BNUukbvb97OMNmxnA</th>\n",
       "      <th>-9Kxik9BRNkft5rPcVvSsw</th>\n",
       "      <th>-9QWlFM3KH0DBS1wiHZJXA</th>\n",
       "      <th>-Awb67JgBbySP4mQtOtNsA</th>\n",
       "      <th>-CoSh2bjDUFPDPjPe43zXA</th>\n",
       "      <th>...</th>\n",
       "      <th>zkUGrri25CXfZc4OS2BtPg</th>\n",
       "      <th>zl7PBrWPw0z0kgSPlXPw1A</th>\n",
       "      <th>zq2WjEegVGBejN3yqE1nSw</th>\n",
       "      <th>zqTe5nSb-GQTXPUpnFZVww</th>\n",
       "      <th>zqeQqA2mDeBeMws48fXAfA</th>\n",
       "      <th>zssHuR6YBH1KUoMggIXpJQ</th>\n",
       "      <th>zvfHwAElgU3u7I5yEixTEg</th>\n",
       "      <th>zwGvMQ7Nw0VwqLUYDuxRXQ</th>\n",
       "      <th>zxPrYDKCHtow8NnC1UH65w</th>\n",
       "      <th>zy9dXnIg6mnZBiti-M--1A</th>\n",
       "    </tr>\n",
       "    <tr>\n",
       "      <th>user_id</th>\n",
       "      <th></th>\n",
       "      <th></th>\n",
       "      <th></th>\n",
       "      <th></th>\n",
       "      <th></th>\n",
       "      <th></th>\n",
       "      <th></th>\n",
       "      <th></th>\n",
       "      <th></th>\n",
       "      <th></th>\n",
       "      <th></th>\n",
       "      <th></th>\n",
       "      <th></th>\n",
       "      <th></th>\n",
       "      <th></th>\n",
       "      <th></th>\n",
       "      <th></th>\n",
       "      <th></th>\n",
       "      <th></th>\n",
       "      <th></th>\n",
       "      <th></th>\n",
       "    </tr>\n",
       "  </thead>\n",
       "  <tbody>\n",
       "    <tr>\n",
       "      <th>--2eQbUFyRvXKgc-AEZXmw</th>\n",
       "      <td>NaN</td>\n",
       "      <td>NaN</td>\n",
       "      <td>NaN</td>\n",
       "      <td>NaN</td>\n",
       "      <td>NaN</td>\n",
       "      <td>NaN</td>\n",
       "      <td>NaN</td>\n",
       "      <td>NaN</td>\n",
       "      <td>NaN</td>\n",
       "      <td>NaN</td>\n",
       "      <td>...</td>\n",
       "      <td>NaN</td>\n",
       "      <td>NaN</td>\n",
       "      <td>NaN</td>\n",
       "      <td>NaN</td>\n",
       "      <td>NaN</td>\n",
       "      <td>NaN</td>\n",
       "      <td>NaN</td>\n",
       "      <td>NaN</td>\n",
       "      <td>NaN</td>\n",
       "      <td>NaN</td>\n",
       "    </tr>\n",
       "    <tr>\n",
       "      <th>--FEYzujiiMt7r5QCvX8YQ</th>\n",
       "      <td>NaN</td>\n",
       "      <td>NaN</td>\n",
       "      <td>NaN</td>\n",
       "      <td>NaN</td>\n",
       "      <td>NaN</td>\n",
       "      <td>NaN</td>\n",
       "      <td>NaN</td>\n",
       "      <td>NaN</td>\n",
       "      <td>NaN</td>\n",
       "      <td>NaN</td>\n",
       "      <td>...</td>\n",
       "      <td>NaN</td>\n",
       "      <td>NaN</td>\n",
       "      <td>NaN</td>\n",
       "      <td>NaN</td>\n",
       "      <td>NaN</td>\n",
       "      <td>NaN</td>\n",
       "      <td>NaN</td>\n",
       "      <td>NaN</td>\n",
       "      <td>NaN</td>\n",
       "      <td>NaN</td>\n",
       "    </tr>\n",
       "    <tr>\n",
       "      <th>--OcebC4uT2T34HHgWIT-A</th>\n",
       "      <td>NaN</td>\n",
       "      <td>NaN</td>\n",
       "      <td>NaN</td>\n",
       "      <td>NaN</td>\n",
       "      <td>NaN</td>\n",
       "      <td>NaN</td>\n",
       "      <td>NaN</td>\n",
       "      <td>NaN</td>\n",
       "      <td>NaN</td>\n",
       "      <td>NaN</td>\n",
       "      <td>...</td>\n",
       "      <td>NaN</td>\n",
       "      <td>NaN</td>\n",
       "      <td>NaN</td>\n",
       "      <td>NaN</td>\n",
       "      <td>NaN</td>\n",
       "      <td>NaN</td>\n",
       "      <td>NaN</td>\n",
       "      <td>NaN</td>\n",
       "      <td>NaN</td>\n",
       "      <td>NaN</td>\n",
       "    </tr>\n",
       "    <tr>\n",
       "      <th>--_Q0PF6V_QhCh2yng7zSg</th>\n",
       "      <td>NaN</td>\n",
       "      <td>NaN</td>\n",
       "      <td>NaN</td>\n",
       "      <td>NaN</td>\n",
       "      <td>NaN</td>\n",
       "      <td>NaN</td>\n",
       "      <td>NaN</td>\n",
       "      <td>NaN</td>\n",
       "      <td>NaN</td>\n",
       "      <td>NaN</td>\n",
       "      <td>...</td>\n",
       "      <td>NaN</td>\n",
       "      <td>NaN</td>\n",
       "      <td>NaN</td>\n",
       "      <td>NaN</td>\n",
       "      <td>NaN</td>\n",
       "      <td>NaN</td>\n",
       "      <td>NaN</td>\n",
       "      <td>NaN</td>\n",
       "      <td>NaN</td>\n",
       "      <td>NaN</td>\n",
       "    </tr>\n",
       "    <tr>\n",
       "      <th>--inoxVRk5TYjhuI4e304A</th>\n",
       "      <td>NaN</td>\n",
       "      <td>NaN</td>\n",
       "      <td>NaN</td>\n",
       "      <td>NaN</td>\n",
       "      <td>NaN</td>\n",
       "      <td>NaN</td>\n",
       "      <td>NaN</td>\n",
       "      <td>NaN</td>\n",
       "      <td>NaN</td>\n",
       "      <td>NaN</td>\n",
       "      <td>...</td>\n",
       "      <td>NaN</td>\n",
       "      <td>NaN</td>\n",
       "      <td>NaN</td>\n",
       "      <td>NaN</td>\n",
       "      <td>NaN</td>\n",
       "      <td>NaN</td>\n",
       "      <td>NaN</td>\n",
       "      <td>NaN</td>\n",
       "      <td>NaN</td>\n",
       "      <td>NaN</td>\n",
       "    </tr>\n",
       "  </tbody>\n",
       "</table>\n",
       "<p>5 rows × 2145 columns</p>\n",
       "</div>"
      ],
      "text/plain": [
       "business_id             -0epFLgYq2C1Jo_W4FOBKw  -1wnOZFsvsJPEXh_hWcmMA   \n",
       "user_id                                                                  \n",
       "--2eQbUFyRvXKgc-AEZXmw                     NaN                     NaN  \\\n",
       "--FEYzujiiMt7r5QCvX8YQ                     NaN                     NaN   \n",
       "--OcebC4uT2T34HHgWIT-A                     NaN                     NaN   \n",
       "--_Q0PF6V_QhCh2yng7zSg                     NaN                     NaN   \n",
       "--inoxVRk5TYjhuI4e304A                     NaN                     NaN   \n",
       "\n",
       "business_id             -2gmbMDzKgYZ_8DOnJtPyw  -6kNhGurAbdNQanqbAaoMg   \n",
       "user_id                                                                  \n",
       "--2eQbUFyRvXKgc-AEZXmw                     NaN                     NaN  \\\n",
       "--FEYzujiiMt7r5QCvX8YQ                     NaN                     NaN   \n",
       "--OcebC4uT2T34HHgWIT-A                     NaN                     NaN   \n",
       "--_Q0PF6V_QhCh2yng7zSg                     NaN                     NaN   \n",
       "--inoxVRk5TYjhuI4e304A                     NaN                     NaN   \n",
       "\n",
       "business_id             -78Va3llKcPbL6SW4is8lw  -7_R1BNUukbvb97OMNmxnA   \n",
       "user_id                                                                  \n",
       "--2eQbUFyRvXKgc-AEZXmw                     NaN                     NaN  \\\n",
       "--FEYzujiiMt7r5QCvX8YQ                     NaN                     NaN   \n",
       "--OcebC4uT2T34HHgWIT-A                     NaN                     NaN   \n",
       "--_Q0PF6V_QhCh2yng7zSg                     NaN                     NaN   \n",
       "--inoxVRk5TYjhuI4e304A                     NaN                     NaN   \n",
       "\n",
       "business_id             -9Kxik9BRNkft5rPcVvSsw  -9QWlFM3KH0DBS1wiHZJXA   \n",
       "user_id                                                                  \n",
       "--2eQbUFyRvXKgc-AEZXmw                     NaN                     NaN  \\\n",
       "--FEYzujiiMt7r5QCvX8YQ                     NaN                     NaN   \n",
       "--OcebC4uT2T34HHgWIT-A                     NaN                     NaN   \n",
       "--_Q0PF6V_QhCh2yng7zSg                     NaN                     NaN   \n",
       "--inoxVRk5TYjhuI4e304A                     NaN                     NaN   \n",
       "\n",
       "business_id             -Awb67JgBbySP4mQtOtNsA  -CoSh2bjDUFPDPjPe43zXA  ...   \n",
       "user_id                                                                 ...   \n",
       "--2eQbUFyRvXKgc-AEZXmw                     NaN                     NaN  ...  \\\n",
       "--FEYzujiiMt7r5QCvX8YQ                     NaN                     NaN  ...   \n",
       "--OcebC4uT2T34HHgWIT-A                     NaN                     NaN  ...   \n",
       "--_Q0PF6V_QhCh2yng7zSg                     NaN                     NaN  ...   \n",
       "--inoxVRk5TYjhuI4e304A                     NaN                     NaN  ...   \n",
       "\n",
       "business_id             zkUGrri25CXfZc4OS2BtPg  zl7PBrWPw0z0kgSPlXPw1A   \n",
       "user_id                                                                  \n",
       "--2eQbUFyRvXKgc-AEZXmw                     NaN                     NaN  \\\n",
       "--FEYzujiiMt7r5QCvX8YQ                     NaN                     NaN   \n",
       "--OcebC4uT2T34HHgWIT-A                     NaN                     NaN   \n",
       "--_Q0PF6V_QhCh2yng7zSg                     NaN                     NaN   \n",
       "--inoxVRk5TYjhuI4e304A                     NaN                     NaN   \n",
       "\n",
       "business_id             zq2WjEegVGBejN3yqE1nSw  zqTe5nSb-GQTXPUpnFZVww   \n",
       "user_id                                                                  \n",
       "--2eQbUFyRvXKgc-AEZXmw                     NaN                     NaN  \\\n",
       "--FEYzujiiMt7r5QCvX8YQ                     NaN                     NaN   \n",
       "--OcebC4uT2T34HHgWIT-A                     NaN                     NaN   \n",
       "--_Q0PF6V_QhCh2yng7zSg                     NaN                     NaN   \n",
       "--inoxVRk5TYjhuI4e304A                     NaN                     NaN   \n",
       "\n",
       "business_id             zqeQqA2mDeBeMws48fXAfA  zssHuR6YBH1KUoMggIXpJQ   \n",
       "user_id                                                                  \n",
       "--2eQbUFyRvXKgc-AEZXmw                     NaN                     NaN  \\\n",
       "--FEYzujiiMt7r5QCvX8YQ                     NaN                     NaN   \n",
       "--OcebC4uT2T34HHgWIT-A                     NaN                     NaN   \n",
       "--_Q0PF6V_QhCh2yng7zSg                     NaN                     NaN   \n",
       "--inoxVRk5TYjhuI4e304A                     NaN                     NaN   \n",
       "\n",
       "business_id             zvfHwAElgU3u7I5yEixTEg  zwGvMQ7Nw0VwqLUYDuxRXQ   \n",
       "user_id                                                                  \n",
       "--2eQbUFyRvXKgc-AEZXmw                     NaN                     NaN  \\\n",
       "--FEYzujiiMt7r5QCvX8YQ                     NaN                     NaN   \n",
       "--OcebC4uT2T34HHgWIT-A                     NaN                     NaN   \n",
       "--_Q0PF6V_QhCh2yng7zSg                     NaN                     NaN   \n",
       "--inoxVRk5TYjhuI4e304A                     NaN                     NaN   \n",
       "\n",
       "business_id             zxPrYDKCHtow8NnC1UH65w  zy9dXnIg6mnZBiti-M--1A  \n",
       "user_id                                                                 \n",
       "--2eQbUFyRvXKgc-AEZXmw                     NaN                     NaN  \n",
       "--FEYzujiiMt7r5QCvX8YQ                     NaN                     NaN  \n",
       "--OcebC4uT2T34HHgWIT-A                     NaN                     NaN  \n",
       "--_Q0PF6V_QhCh2yng7zSg                     NaN                     NaN  \n",
       "--inoxVRk5TYjhuI4e304A                     NaN                     NaN  \n",
       "\n",
       "[5 rows x 2145 columns]"
      ]
     },
     "execution_count": 21,
     "metadata": {},
     "output_type": "execute_result"
    }
   ],
   "source": [
    "userid_rating_matrix.head()"
   ]
  },
  {
   "cell_type": "code",
   "execution_count": 23,
   "metadata": {
    "colab": {},
    "colab_type": "code",
    "id": "Y3muStVAkX9B"
   },
   "outputs": [],
   "source": [
    "P = pd.DataFrame(userid_vectors.toarray(), index=userid_df.index, columns=userid_vectorizer.get_feature_names_out())\n",
    "Q = pd.DataFrame(businessid_vectors.toarray(), index=business_df.index, columns=businessid_vectorizer.get_feature_names_out())"
   ]
  },
  {
   "cell_type": "markdown",
   "metadata": {
    "colab_type": "text",
    "id": "zhSCcwbOke8O"
   },
   "source": [
    "Gradient Decent Optimization"
   ]
  },
  {
   "cell_type": "code",
   "execution_count": 24,
   "metadata": {
    "colab": {},
    "colab_type": "code",
    "id": "vc97VomHkjBG"
   },
   "outputs": [],
   "source": [
    "def matrix_factorization(R, P, Q, steps=25, gamma=0.001,lamda=0.02):\n",
    "    for step in range(steps):\n",
    "        for i in R.index:\n",
    "            for j in R.columns:\n",
    "                if R.loc[i,j]>0:\n",
    "                    eij=R.loc[i,j]-np.dot(P.loc[i],Q.loc[j])\n",
    "                    P.loc[i]=P.loc[i]+gamma*(eij*Q.loc[j]-lamda*P.loc[i])\n",
    "                    Q.loc[j]=Q.loc[j]+gamma*(eij*P.loc[i]-lamda*Q.loc[j])\n",
    "        e=0\n",
    "        for i in R.index:\n",
    "            for j in R.columns:\n",
    "                if R.loc[i,j]>0:\n",
    "                    e= e + pow(R.loc[i,j]-np.dot(P.loc[i],Q.loc[j]),2)+lamda*(pow(np.linalg.norm(P.loc[i]),2)+pow(np.linalg.norm(Q.loc[j]),2))\n",
    "        if e<0.001:\n",
    "            break\n",
    "        \n",
    "    return P,Q"
   ]
  },
  {
   "cell_type": "code",
   "execution_count": null,
   "metadata": {
    "colab": {
     "base_uri": "https://localhost:8080/",
     "height": 51
    },
    "colab_type": "code",
    "executionInfo": {
     "elapsed": 6874862,
     "status": "ok",
     "timestamp": 1586883737474,
     "user": {
      "displayName": "Sanjan Vijayakumar",
      "photoUrl": "",
      "userId": "01025977407905630875"
     },
     "user_tz": 240
    },
    "id": "qv-q-zyAknxH",
    "outputId": "9cf957b7-eb3f-4146-ba24-1fb16a3490fe"
   },
   "outputs": [
    {
     "name": "stdout",
     "output_type": "stream",
     "text": [
      "CPU times: user 15h 34min 35s, sys: 59min 52s, total: 16h 34min 27s\n",
      "Wall time: 5h 59min 7s\n"
     ]
    }
   ],
   "source": [
    "# %%time\n",
    "# P, Q = matrix_factorization(userid_rating_matrix, P, Q, steps=25, gamma=0.001,lamda=0.02)"
   ]
  },
  {
   "cell_type": "code",
   "execution_count": null,
   "metadata": {},
   "outputs": [],
   "source": [
    "# P.to_pickle(\"/Users/ketanrode/Desktop/Taste AI/P.pkl\")\n",
    "# Q.to_pickle(\"/Users/ketanrode/Desktop/Taste AI/Q.pkl\")"
   ]
  },
  {
   "cell_type": "code",
   "execution_count": 26,
   "metadata": {},
   "outputs": [],
   "source": [
    "P = pd.read_pickle('P.pkl')\n",
    "Q = pd.read_pickle('Q.pkl')"
   ]
  },
  {
   "cell_type": "code",
   "execution_count": 27,
   "metadata": {
    "colab": {
     "base_uri": "https://localhost:8080/",
     "height": 204
    },
    "colab_type": "code",
    "executionInfo": {
     "elapsed": 14,
     "status": "ok",
     "timestamp": 1586883737605,
     "user": {
      "displayName": "Sanjan Vijayakumar",
      "photoUrl": "",
      "userId": "01025977407905630875"
     },
     "user_tz": 240
    },
    "id": "ejywLq2ik3Zv",
    "outputId": "a578710b-7e4c-41f3-b7c5-2f5f52a498d8"
   },
   "outputs": [
    {
     "data": {
      "text/plain": [
       "coffee       0.428238\n",
       "food         0.412389\n",
       "breakfast    0.405706\n",
       "columbia     0.301916\n",
       "good         0.290570\n",
       "quiche       0.284859\n",
       "great        0.284407\n",
       "place        0.250176\n",
       "service      0.231249\n",
       "chocolate    0.228462\n",
       "Name: -0epFLgYq2C1Jo_W4FOBKw, dtype: float64"
      ]
     },
     "execution_count": 27,
     "metadata": {},
     "output_type": "execute_result"
    }
   ],
   "source": [
    "Q.iloc[0].sort_values(ascending=False).head(10)"
   ]
  },
  {
   "cell_type": "markdown",
   "metadata": {
    "colab_type": "text",
    "id": "M-hqdVqzk-yN"
   },
   "source": [
    "Exporting model"
   ]
  },
  {
   "cell_type": "code",
   "execution_count": null,
   "metadata": {
    "colab": {},
    "colab_type": "code",
    "id": "FKHhyp75k3bh"
   },
   "outputs": [],
   "source": [
    "# import pickle\n",
    "# output = open('yelp_recommendation_model_8.pkl', 'wb')\n",
    "# pickle.dump(P,output)\n",
    "# pickle.dump(Q,output)\n",
    "# pickle.dump(userid_vectorizer,output)\n",
    "# output.close()"
   ]
  },
  {
   "cell_type": "markdown",
   "metadata": {
    "colab_type": "text",
    "id": "cgNRWX20lE0x"
   },
   "source": [
    "Testing on user input"
   ]
  },
  {
   "cell_type": "code",
   "execution_count": 33,
   "metadata": {
    "colab": {
     "base_uri": "https://localhost:8080/",
     "height": 545
    },
    "colab_type": "code",
    "executionInfo": {
     "elapsed": 669,
     "status": "ok",
     "timestamp": 1586892633523,
     "user": {
      "displayName": "Sanjan Vijayakumar",
      "photoUrl": "",
      "userId": "01025977407905630875"
     },
     "user_tz": 240
    },
    "id": "-UNB7CVhk3eD",
    "outputId": "cf93296f-3d02-489f-e236-8e188ae5995b"
   },
   "outputs": [
    {
     "name": "stdout",
     "output_type": "stream",
     "text": [
      "Text -  good food and service\n",
      "\n",
      "\n",
      "Restaurant:  Lotawata Creek Southern Grill\n",
      "Known for:  Restaurants, Southern, American (Traditional)\n",
      "Ratings:  3.5\n",
      "No of reviews:  550\n",
      "\n",
      "Restaurant:  Hop House Southern Eatery\n",
      "Known for:  Beer Bar, Soul Food, Southern, American (Traditional), Nightlife, Bars, Restaurants\n",
      "Ratings:  4.0\n",
      "No of reviews:  407\n",
      "\n",
      "Restaurant:  Casa Maria Mexican Grill\n",
      "Known for:  Restaurants, Tacos, Cocktail Bars, Bars, Nightlife, Mexican, Tex-Mex\n",
      "Ratings:  4.5\n",
      "No of reviews:  161\n",
      "\n",
      "Restaurant:  The Egg & I\n",
      "Known for:  Cafes, American (Traditional), American (New), Restaurants, Breakfast & Brunch\n",
      "Ratings:  4.0\n",
      "No of reviews:  232\n",
      "\n",
      "Restaurant:  Cleveland-Heath\n",
      "Known for:  American (New), Restaurants, American (Traditional)\n",
      "Ratings:  4.5\n",
      "No of reviews:  455\n",
      "\n",
      "Restaurant:  Agostino's Restaurant and Bar\n",
      "Known for:  Italian, American (Traditional), Event Planning & Services, Caterers, Restaurants, Nightlife, Bars, Venues & Event Spaces\n",
      "Ratings:  4.0\n",
      "No of reviews:  187\n",
      "\n",
      "Restaurant:  Peel Wood Fired Pizza\n",
      "Known for:  Nightlife, Restaurants, Bars, Pizza, Food, Breweries, Chicken Wings\n",
      "Ratings:  4.0\n",
      "No of reviews:  385\n",
      "\n"
     ]
    }
   ],
   "source": [
    "words = input()\n",
    "test_df= pd.DataFrame([words], columns=['text'])\n",
    "test_df['text'] = test_df['text'].apply(text_process)\n",
    "test_vectors = userid_vectorizer.transform(test_df['text'])\n",
    "test_v_df = pd.DataFrame(test_vectors.toarray(), index=test_df.index, columns=userid_vectorizer.get_feature_names_out())\n",
    "\n",
    "predictItemRating=pd.DataFrame(np.dot(test_v_df.loc[0],Q.T),index=Q.index,columns=['Rating'])\n",
    "topRecommendations=pd.DataFrame.sort_values(predictItemRating,['Rating'],ascending=[0])[:7]\n",
    "\n",
    "print(\"Text - \",words)\n",
    "print(\"\\n\")\n",
    "for i in topRecommendations.index:\n",
    "    print(\"Restaurant: \", df_business[df_business['business_id']==i]['name'].iloc[0])\n",
    "    print(\"Known for: \", df_business[df_business['business_id']==i]['categories'].iloc[0])\n",
    "    print(\"Ratings: \", str(df_business[df_business['business_id']==i]['stars'].iloc[0]))\n",
    "    print(\"No of reviews: \", str(df_business[df_business['business_id']==i]['review_count'].iloc[0]))\n",
    "    print('')"
   ]
  },
  {
   "cell_type": "code",
   "execution_count": null,
   "metadata": {},
   "outputs": [],
   "source": []
  }
 ],
 "metadata": {
  "colab": {
   "authorship_tag": "ABX9TyOLlAWvMgs1FmiTETB88KXh",
   "collapsed_sections": [],
   "mount_file_id": "1ndZb1XvFjjrS223mPus6OCiJZwfet6VS",
   "name": "uml_recommender_system.ipynb",
   "provenance": []
  },
  "kernelspec": {
   "display_name": "Python 3.8.8",
   "language": "python",
   "name": "python3"
  },
  "language_info": {
   "codemirror_mode": {
    "name": "ipython",
    "version": 3
   },
   "file_extension": ".py",
   "mimetype": "text/x-python",
   "name": "python",
   "nbconvert_exporter": "python",
   "pygments_lexer": "ipython3",
   "version": "3.9.10"
  },
  "vscode": {
   "interpreter": {
    "hash": "40d3a090f54c6569ab1632332b64b2c03c39dcf918b08424e98f38b5ae0af88f"
   }
  }
 },
 "nbformat": 4,
 "nbformat_minor": 1
}
